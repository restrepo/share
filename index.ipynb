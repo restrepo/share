{
 "cells": [
  {
   "cell_type": "code",
   "execution_count": 1,
   "metadata": {
    "collapsed": true
   },
   "outputs": [],
   "source": [
    "import numpy as np"
   ]
  },
  {
   "cell_type": "markdown",
   "metadata": {},
   "source": [
    "Obtain eigenvalues `Mdiag` and rotation matrix `U`"
   ]
  },
  {
   "cell_type": "code",
   "execution_count": 29,
   "metadata": {
    "collapsed": false
   },
   "outputs": [],
   "source": [
    "M=[[1.77733E7, 0, -2.7946*1E7], \n",
    "               [0, 6659.79, -6659.79], \n",
    "               [-2.7946E7, -6659.79, 4.39478E7]]\n",
    "Mdiag,U=np.linalg.eig(M)"
   ]
  },
  {
   "cell_type": "markdown",
   "metadata": {},
   "source": [
    "Check diagonalization"
   ]
  },
  {
   "cell_type": "code",
   "execution_count": 30,
   "metadata": {
    "collapsed": false
   },
   "outputs": [
    {
     "data": {
      "text/plain": [
       "array([[  6.17191802e+07,  -3.72529030e-09,  -1.30385160e-08],\n",
       "       [ -3.11438408e-09,   1.90324609e+00,   2.39900905e-10],\n",
       "       [ -9.46397449e-09,  -3.56067176e-10,   8.57764906e+03]])"
      ]
     },
     "execution_count": 30,
     "metadata": {},
     "output_type": "execute_result"
    }
   ],
   "source": [
    "np.dot(np.dot(U.T,M),U)"
   ]
  },
  {
   "cell_type": "markdown",
   "metadata": {},
   "source": [
    "Show rotation matrix"
   ]
  },
  {
   "cell_type": "code",
   "execution_count": 31,
   "metadata": {
    "collapsed": false
   },
   "outputs": [
    {
     "data": {
      "text/plain": [
       "array([[ -5.36608134e-01,  -7.43460375e-01,  -3.99147068e-01],\n",
       "       [ -9.10632226e-05,  -4.72966442e-01,   8.81080437e-01],\n",
       "       [  8.43831560e-01,  -4.72831277e-01,  -2.53729938e-01]])"
      ]
     },
     "execution_count": 31,
     "metadata": {},
     "output_type": "execute_result"
    }
   ],
   "source": [
    "U"
   ]
  },
  {
   "cell_type": "markdown",
   "metadata": {},
   "source": [
    "Reorder eigenvectors to obtain eigenvalues in right order"
   ]
  },
  {
   "cell_type": "code",
   "execution_count": 35,
   "metadata": {
    "collapsed": false
   },
   "outputs": [
    {
     "data": {
      "text/plain": [
       "array([[ -7.43460375e-01,  -3.99147068e-01,  -5.36608134e-01],\n",
       "       [ -4.72966442e-01,   8.81080437e-01,  -9.10632226e-05],\n",
       "       [ -4.72831277e-01,  -2.53729938e-01,   8.43831560e-01]])"
      ]
     },
     "execution_count": 35,
     "metadata": {},
     "output_type": "execute_result"
    }
   ],
   "source": [
    "V=np.dstack((U[:,1],U[:,2],U[:,0]))[0]\n",
    "V"
   ]
  },
  {
   "cell_type": "markdown",
   "metadata": {},
   "source": [
    "Obtain eigenvalues in increasing order"
   ]
  },
  {
   "cell_type": "code",
   "execution_count": 36,
   "metadata": {
    "collapsed": false
   },
   "outputs": [
    {
     "data": {
      "text/plain": [
       "array([[  1.90324609e+00,   2.39900905e-10,  -3.11438408e-09],\n",
       "       [ -3.56067176e-10,   8.57764906e+03,  -9.46397449e-09],\n",
       "       [ -3.72529030e-09,  -1.30385160e-08,   6.17191802e+07]])"
      ]
     },
     "execution_count": 36,
     "metadata": {},
     "output_type": "execute_result"
    }
   ],
   "source": [
    "np.dot(np.dot(V.T,M),V)"
   ]
  },
  {
   "cell_type": "markdown",
   "metadata": {},
   "source": [
    "Write expected rotation matrix"
   ]
  },
  {
   "cell_type": "code",
   "execution_count": 37,
   "metadata": {
    "collapsed": false
   },
   "outputs": [],
   "source": [
    "ZZMIX=[[0.743508, -0.399058, -0.536608], \n",
    " [0.472861, 0.881137, -0.0000910632],\n",
    " [0.472861, -0.253673, 0.843832]]"
   ]
  },
  {
   "cell_type": "markdown",
   "metadata": {},
   "source": [
    "Check that `V` and `ZZMIX` are equal"
   ]
  },
  {
   "cell_type": "code",
   "execution_count": 48,
   "metadata": {
    "collapsed": false
   },
   "outputs": [],
   "source": [
    "np.testing.assert_almost_equal(np.abs(ZZMIX),np.abs(V),decimal=4)"
   ]
  }
 ],
 "metadata": {
  "kernelspec": {
   "display_name": "Python 2",
   "language": "python",
   "name": "python2"
  },
  "language_info": {
   "codemirror_mode": {
    "name": "ipython",
    "version": 2
   },
   "file_extension": ".py",
   "mimetype": "text/x-python",
   "name": "python",
   "nbconvert_exporter": "python",
   "pygments_lexer": "ipython2",
   "version": "2.7.11"
  }
 },
 "nbformat": 4,
 "nbformat_minor": 0
}
