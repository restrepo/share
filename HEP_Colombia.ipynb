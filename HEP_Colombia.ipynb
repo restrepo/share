{
 "cells": [
  {
   "cell_type": "markdown",
   "metadata": {
    "slideshow": {
     "slide_type": "slide"
    }
   },
   "source": [
    "# High energy physics in Colombia"
   ]
  },
  {
   "cell_type": "code",
   "execution_count": 1,
   "metadata": {
    "collapsed": true,
    "slideshow": {
     "slide_type": "fragment"
    }
   },
   "outputs": [],
   "source": [
    "import requests\n",
    "import time\n",
    "from IPython.core.display import HTML"
   ]
  },
  {
   "cell_type": "code",
   "execution_count": 2,
   "metadata": {
    "collapsed": false,
    "slideshow": {
     "slide_type": "fragment"
    }
   },
   "outputs": [],
   "source": [
    "def inspire_summary(query='find aff Antioquia U.'):\n",
    "    time.sleep(2) #Avoids robot detection\n",
    "    r=requests.get('http://inspirehep.net/search?p=%s&of=hcs' %query)\n",
    "    header='<table id=\"citesummary\">'\n",
    "    result=r.text.split(header)\n",
    "    if len(result)>1:\n",
    "        result=result[1].split('</table>')[0]\n",
    "        if len(result)>0:\n",
    "            return '<h3>Find: '+query+'</h3>'+header+result\n",
    "    else:\n",
    "        return '<font color=\"red\">Your search did not match any records.  Please try again.</font>'"
   ]
  },
  {
   "cell_type": "markdown",
   "metadata": {
    "slideshow": {
     "slide_type": "slide"
    }
   },
   "source": [
    "## With CERN collaborations (and Pierre Auger)"
   ]
  },
  {
   "cell_type": "code",
   "execution_count": 3,
   "metadata": {
    "collapsed": false,
    "slideshow": {
     "slide_type": "slide"
    }
   },
   "outputs": [
    {
     "data": {
      "text/html": [
       "<h3>Find: find aff Antioquia U.</h3><table id=\"citesummary\">\n",
       "                  <tr>\n",
       "                    <td>\n",
       "                      <strong class=\"headline\">Citation summary results</strong>\n",
       "                    </td><td align=\"right\">Citeable papers</td><td align=\"right\">Published only</td></tr><tr><td><strong>Total number of papers analyzed:</strong></td><td align=\"right\"><a href=\"http://inspirehep.net/search?p=find%20aff%20Antioquia%20U.%20AND%20collection%3Aciteable\">187</a></td><td align=\"right\"><a href=\"http://inspirehep.net/search?p=find%20aff%20Antioquia%20U.%20AND%20collection%3Apublished\">135</a></td></tr><tr><td><strong>Total number of citations:</strong></td><td align=\"right\">4,734</td><td align=\"right\">4,182</td></tr><tr><td><strong>Average citations per paper:</strong></td><td align=\"right\">25.3</td><td align=\"right\">31.0</td></tr><tr><td><strong>Breakdown of papers by citations:</strong></td></tr><tr><td>Renowned papers (500+)</td><td align=\"right\"><a href=\"/search?p=find%20aff%20Antioquia%20U.%20AND%20collection%3Aciteable%20AND%20cited%3A500-%3E1000000\">0</a></td><td align=\"right\"><a href=\"/search?p=find%20aff%20Antioquia%20U.%20AND%20collection%3Apublished%20AND%20cited%3A500-%3E1000000\">0</a></td></tr><tr><td>Famous papers (250-499)</td><td align=\"right\"><a href=\"/search?p=find%20aff%20Antioquia%20U.%20AND%20collection%3Aciteable%20AND%20cited%3A250-%3E499\">3</a></td><td align=\"right\"><a href=\"/search?p=find%20aff%20Antioquia%20U.%20AND%20collection%3Apublished%20AND%20cited%3A250-%3E499\">2</a></td></tr><tr><td>Very well-known papers (100-249)</td><td align=\"right\"><a href=\"/search?p=find%20aff%20Antioquia%20U.%20AND%20collection%3Aciteable%20AND%20cited%3A100-%3E249\">6</a></td><td align=\"right\"><a href=\"/search?p=find%20aff%20Antioquia%20U.%20AND%20collection%3Apublished%20AND%20cited%3A100-%3E249\">5</a></td></tr><tr><td>Well-known papers (50-99)</td><td align=\"right\"><a href=\"/search?p=find%20aff%20Antioquia%20U.%20AND%20collection%3Aciteable%20AND%20cited%3A50-%3E99\">17</a></td><td align=\"right\"><a href=\"/search?p=find%20aff%20Antioquia%20U.%20AND%20collection%3Apublished%20AND%20cited%3A50-%3E99\">17</a></td></tr><tr><td>Known papers (10-49)</td><td align=\"right\"><a href=\"/search?p=find%20aff%20Antioquia%20U.%20AND%20collection%3Aciteable%20AND%20cited%3A10-%3E49\">50</a></td><td align=\"right\"><a href=\"/search?p=find%20aff%20Antioquia%20U.%20AND%20collection%3Apublished%20AND%20cited%3A10-%3E49\">48</a></td></tr><tr><td>Less known papers (1-9)</td><td align=\"right\"><a href=\"/search?p=find%20aff%20Antioquia%20U.%20AND%20collection%3Aciteable%20AND%20cited%3A1-%3E9\">80</a></td><td align=\"right\"><a href=\"/search?p=find%20aff%20Antioquia%20U.%20AND%20collection%3Apublished%20AND%20cited%3A1-%3E9\">54</a></td></tr><tr><td>Unknown papers (0)</td><td align=\"right\"><a href=\"/search?p=find%20aff%20Antioquia%20U.%20AND%20collection%3Aciteable%20AND%20cited%3A0\">31</a></td><td align=\"right\"><a href=\"/search?p=find%20aff%20Antioquia%20U.%20AND%20collection%3Apublished%20AND%20cited%3A0\">9</a></td></tr><tr><td>h<sub style=\"font-size: 50%\">HEP</sub> index <small><small>[<a href=\"/help/citation-metrics#citesummary_h-index\">?</a>]</small></small></td><td align=\"right\">34</td><td align=\"right\">33</td></tr>"
      ],
      "text/plain": [
       "<IPython.core.display.HTML object>"
      ]
     },
     "execution_count": 3,
     "metadata": {},
     "output_type": "execute_result"
    }
   ],
   "source": [
    "HTML(inspire_summary(query='find aff Antioquia U.'))"
   ]
  },
  {
   "cell_type": "code",
   "execution_count": 4,
   "metadata": {
    "collapsed": false,
    "slideshow": {
     "slide_type": "slide"
    }
   },
   "outputs": [
    {
     "data": {
      "text/html": [
       "<h3>Find: find aff Andes U., Bogota</h3><table id=\"citesummary\">\n",
       "                  <tr>\n",
       "                    <td>\n",
       "                      <strong class=\"headline\">Citation summary results</strong>\n",
       "                    </td><td align=\"right\">Citeable papers</td><td align=\"right\">Published only</td></tr><tr><td><strong>Total number of papers analyzed:</strong></td><td align=\"right\"><a href=\"http://inspirehep.net/search?p=find%20aff%20Andes%20U.%2C%20Bogota%20AND%20collection%3Aciteable\">1,078</a></td><td align=\"right\"><a href=\"http://inspirehep.net/search?p=find%20aff%20Andes%20U.%2C%20Bogota%20AND%20collection%3Apublished\">962</a></td></tr><tr><td><strong>Total number of citations:</strong></td><td align=\"right\">71,298</td><td align=\"right\">70,893</td></tr><tr><td><strong>Average citations per paper:</strong></td><td align=\"right\">66.1</td><td align=\"right\">73.7</td></tr><tr><td><strong>Breakdown of papers by citations:</strong></td></tr><tr><td>Renowned papers (500+)</td><td align=\"right\"><a href=\"/search?p=find%20aff%20Andes%20U.%2C%20Bogota%20AND%20collection%3Aciteable%20AND%20cited%3A500-%3E1000000\">8</a></td><td align=\"right\"><a href=\"/search?p=find%20aff%20Andes%20U.%2C%20Bogota%20AND%20collection%3Apublished%20AND%20cited%3A500-%3E1000000\">8</a></td></tr><tr><td>Famous papers (250-499)</td><td align=\"right\"><a href=\"/search?p=find%20aff%20Andes%20U.%2C%20Bogota%20AND%20collection%3Aciteable%20AND%20cited%3A250-%3E499\">26</a></td><td align=\"right\"><a href=\"/search?p=find%20aff%20Andes%20U.%2C%20Bogota%20AND%20collection%3Apublished%20AND%20cited%3A250-%3E499\">26</a></td></tr><tr><td>Very well-known papers (100-249)</td><td align=\"right\"><a href=\"/search?p=find%20aff%20Andes%20U.%2C%20Bogota%20AND%20collection%3Aciteable%20AND%20cited%3A100-%3E249\">121</a></td><td align=\"right\"><a href=\"/search?p=find%20aff%20Andes%20U.%2C%20Bogota%20AND%20collection%3Apublished%20AND%20cited%3A100-%3E249\">120</a></td></tr><tr><td>Well-known papers (50-99)</td><td align=\"right\"><a href=\"/search?p=find%20aff%20Andes%20U.%2C%20Bogota%20AND%20collection%3Aciteable%20AND%20cited%3A50-%3E99\">242</a></td><td align=\"right\"><a href=\"/search?p=find%20aff%20Andes%20U.%2C%20Bogota%20AND%20collection%3Apublished%20AND%20cited%3A50-%3E99\">242</a></td></tr><tr><td>Known papers (10-49)</td><td align=\"right\"><a href=\"/search?p=find%20aff%20Andes%20U.%2C%20Bogota%20AND%20collection%3Aciteable%20AND%20cited%3A10-%3E49\">432</a></td><td align=\"right\"><a href=\"/search?p=find%20aff%20Andes%20U.%2C%20Bogota%20AND%20collection%3Apublished%20AND%20cited%3A10-%3E49\">425</a></td></tr><tr><td>Less known papers (1-9)</td><td align=\"right\"><a href=\"/search?p=find%20aff%20Andes%20U.%2C%20Bogota%20AND%20collection%3Aciteable%20AND%20cited%3A1-%3E9\">176</a></td><td align=\"right\"><a href=\"/search?p=find%20aff%20Andes%20U.%2C%20Bogota%20AND%20collection%3Apublished%20AND%20cited%3A1-%3E9\">120</a></td></tr><tr><td>Unknown papers (0)</td><td align=\"right\"><a href=\"/search?p=find%20aff%20Andes%20U.%2C%20Bogota%20AND%20collection%3Aciteable%20AND%20cited%3A0\">73</a></td><td align=\"right\"><a href=\"/search?p=find%20aff%20Andes%20U.%2C%20Bogota%20AND%20collection%3Apublished%20AND%20cited%3A0\">21</a></td></tr><tr><td>h<sub style=\"font-size: 50%\">HEP</sub> index <small><small>[<a href=\"/help/citation-metrics#citesummary_h-index\">?</a>]</small></small></td><td align=\"right\">120</td><td align=\"right\">120</td></tr>"
      ],
      "text/plain": [
       "<IPython.core.display.HTML object>"
      ]
     },
     "execution_count": 4,
     "metadata": {},
     "output_type": "execute_result"
    }
   ],
   "source": [
    "HTML( inspire_summary(query='find aff Andes U., Bogota') )"
   ]
  },
  {
   "cell_type": "code",
   "execution_count": 5,
   "metadata": {
    "collapsed": false,
    "slideshow": {
     "slide_type": "slide"
    }
   },
   "outputs": [
    {
     "data": {
      "text/html": [
       "<h3>Find: find aff Colombia, U. Natl.</h3><table id=\"citesummary\">\n",
       "                  <tr>\n",
       "                    <td>\n",
       "                      <strong class=\"headline\">Citation summary results</strong>\n",
       "                    </td><td align=\"right\">Citeable papers</td><td align=\"right\">Published only</td></tr><tr><td><strong>Total number of papers analyzed:</strong></td><td align=\"right\"><a href=\"http://inspirehep.net/search?p=find%20aff%20Colombia%2C%20U.%20Natl.%20AND%20collection%3Aciteable\">347</a></td><td align=\"right\"><a href=\"http://inspirehep.net/search?p=find%20aff%20Colombia%2C%20U.%20Natl.%20AND%20collection%3Apublished\">231</a></td></tr><tr><td><strong>Total number of citations:</strong></td><td align=\"right\">3,062</td><td align=\"right\">2,566</td></tr><tr><td><strong>Average citations per paper:</strong></td><td align=\"right\">8.8</td><td align=\"right\">11.1</td></tr><tr><td><strong>Breakdown of papers by citations:</strong></td></tr><tr><td>Renowned papers (500+)</td><td align=\"right\"><a href=\"/search?p=find%20aff%20Colombia%2C%20U.%20Natl.%20AND%20collection%3Aciteable%20AND%20cited%3A500-%3E1000000\">0</a></td><td align=\"right\"><a href=\"/search?p=find%20aff%20Colombia%2C%20U.%20Natl.%20AND%20collection%3Apublished%20AND%20cited%3A500-%3E1000000\">0</a></td></tr><tr><td>Famous papers (250-499)</td><td align=\"right\"><a href=\"/search?p=find%20aff%20Colombia%2C%20U.%20Natl.%20AND%20collection%3Aciteable%20AND%20cited%3A250-%3E499\">0</a></td><td align=\"right\"><a href=\"/search?p=find%20aff%20Colombia%2C%20U.%20Natl.%20AND%20collection%3Apublished%20AND%20cited%3A250-%3E499\">0</a></td></tr><tr><td>Very well-known papers (100-249)</td><td align=\"right\"><a href=\"/search?p=find%20aff%20Colombia%2C%20U.%20Natl.%20AND%20collection%3Aciteable%20AND%20cited%3A100-%3E249\">3</a></td><td align=\"right\"><a href=\"/search?p=find%20aff%20Colombia%2C%20U.%20Natl.%20AND%20collection%3Apublished%20AND%20cited%3A100-%3E249\">2</a></td></tr><tr><td>Well-known papers (50-99)</td><td align=\"right\"><a href=\"/search?p=find%20aff%20Colombia%2C%20U.%20Natl.%20AND%20collection%3Aciteable%20AND%20cited%3A50-%3E99\">7</a></td><td align=\"right\"><a href=\"/search?p=find%20aff%20Colombia%2C%20U.%20Natl.%20AND%20collection%3Apublished%20AND%20cited%3A50-%3E99\">7</a></td></tr><tr><td>Known papers (10-49)</td><td align=\"right\"><a href=\"/search?p=find%20aff%20Colombia%2C%20U.%20Natl.%20AND%20collection%3Aciteable%20AND%20cited%3A10-%3E49\">85</a></td><td align=\"right\"><a href=\"/search?p=find%20aff%20Colombia%2C%20U.%20Natl.%20AND%20collection%3Apublished%20AND%20cited%3A10-%3E49\">74</a></td></tr><tr><td>Less known papers (1-9)</td><td align=\"right\"><a href=\"/search?p=find%20aff%20Colombia%2C%20U.%20Natl.%20AND%20collection%3Aciteable%20AND%20cited%3A1-%3E9\">159</a></td><td align=\"right\"><a href=\"/search?p=find%20aff%20Colombia%2C%20U.%20Natl.%20AND%20collection%3Apublished%20AND%20cited%3A1-%3E9\">116</a></td></tr><tr><td>Unknown papers (0)</td><td align=\"right\"><a href=\"/search?p=find%20aff%20Colombia%2C%20U.%20Natl.%20AND%20collection%3Aciteable%20AND%20cited%3A0\">93</a></td><td align=\"right\"><a href=\"/search?p=find%20aff%20Colombia%2C%20U.%20Natl.%20AND%20collection%3Apublished%20AND%20cited%3A0\">32</a></td></tr><tr><td>h<sub style=\"font-size: 50%\">HEP</sub> index <small><small>[<a href=\"/help/citation-metrics#citesummary_h-index\">?</a>]</small></small></td><td align=\"right\">27</td><td align=\"right\">25</td></tr>"
      ],
      "text/plain": [
       "<IPython.core.display.HTML object>"
      ]
     },
     "execution_count": 5,
     "metadata": {},
     "output_type": "execute_result"
    }
   ],
   "source": [
    "HTML( inspire_summary(query='find aff Colombia, U. Natl.') )"
   ]
  },
  {
   "cell_type": "code",
   "execution_count": 6,
   "metadata": {
    "collapsed": false,
    "slideshow": {
     "slide_type": "slide"
    }
   },
   "outputs": [
    {
     "data": {
      "text/html": [
       "<h3>Find: find aff Antonio Narino U.</h3><table id=\"citesummary\">\n",
       "                  <tr>\n",
       "                    <td>\n",
       "                      <strong class=\"headline\">Citation summary results</strong>\n",
       "                    </td><td align=\"right\">Citeable papers</td><td align=\"right\">Published only</td></tr><tr><td><strong>Total number of papers analyzed:</strong></td><td align=\"right\"><a href=\"http://inspirehep.net/search?p=find%20aff%20Antonio%20Narino%20U.%20AND%20collection%3Aciteable\">606</a></td><td align=\"right\"><a href=\"http://inspirehep.net/search?p=find%20aff%20Antonio%20Narino%20U.%20AND%20collection%3Apublished\">536</a></td></tr><tr><td><strong>Total number of citations:</strong></td><td align=\"right\">50,457</td><td align=\"right\">48,290</td></tr><tr><td><strong>Average citations per paper:</strong></td><td align=\"right\">83.3</td><td align=\"right\">90.1</td></tr><tr><td><strong>Breakdown of papers by citations:</strong></td></tr><tr><td>Renowned papers (500+)</td><td align=\"right\"><a href=\"/search?p=find%20aff%20Antonio%20Narino%20U.%20AND%20collection%3Aciteable%20AND%20cited%3A500-%3E1000000\">8</a></td><td align=\"right\"><a href=\"/search?p=find%20aff%20Antonio%20Narino%20U.%20AND%20collection%3Apublished%20AND%20cited%3A500-%3E1000000\">7</a></td></tr><tr><td>Famous papers (250-499)</td><td align=\"right\"><a href=\"/search?p=find%20aff%20Antonio%20Narino%20U.%20AND%20collection%3Aciteable%20AND%20cited%3A250-%3E499\">16</a></td><td align=\"right\"><a href=\"/search?p=find%20aff%20Antonio%20Narino%20U.%20AND%20collection%3Apublished%20AND%20cited%3A250-%3E499\">16</a></td></tr><tr><td>Very well-known papers (100-249)</td><td align=\"right\"><a href=\"/search?p=find%20aff%20Antonio%20Narino%20U.%20AND%20collection%3Aciteable%20AND%20cited%3A100-%3E249\">87</a></td><td align=\"right\"><a href=\"/search?p=find%20aff%20Antonio%20Narino%20U.%20AND%20collection%3Apublished%20AND%20cited%3A100-%3E249\">86</a></td></tr><tr><td>Well-known papers (50-99)</td><td align=\"right\"><a href=\"/search?p=find%20aff%20Antonio%20Narino%20U.%20AND%20collection%3Aciteable%20AND%20cited%3A50-%3E99\">139</a></td><td align=\"right\"><a href=\"/search?p=find%20aff%20Antonio%20Narino%20U.%20AND%20collection%3Apublished%20AND%20cited%3A50-%3E99\">139</a></td></tr><tr><td>Known papers (10-49)</td><td align=\"right\"><a href=\"/search?p=find%20aff%20Antonio%20Narino%20U.%20AND%20collection%3Aciteable%20AND%20cited%3A10-%3E49\">230</a></td><td align=\"right\"><a href=\"/search?p=find%20aff%20Antonio%20Narino%20U.%20AND%20collection%3Apublished%20AND%20cited%3A10-%3E49\">226</a></td></tr><tr><td>Less known papers (1-9)</td><td align=\"right\"><a href=\"/search?p=find%20aff%20Antonio%20Narino%20U.%20AND%20collection%3Aciteable%20AND%20cited%3A1-%3E9\">95</a></td><td align=\"right\"><a href=\"/search?p=find%20aff%20Antonio%20Narino%20U.%20AND%20collection%3Apublished%20AND%20cited%3A1-%3E9\">60</a></td></tr><tr><td>Unknown papers (0)</td><td align=\"right\"><a href=\"/search?p=find%20aff%20Antonio%20Narino%20U.%20AND%20collection%3Aciteable%20AND%20cited%3A0\">31</a></td><td align=\"right\"><a href=\"/search?p=find%20aff%20Antonio%20Narino%20U.%20AND%20collection%3Apublished%20AND%20cited%3A0\">2</a></td></tr><tr><td>h<sub style=\"font-size: 50%\">HEP</sub> index <small><small>[<a href=\"/help/citation-metrics#citesummary_h-index\">?</a>]</small></small></td><td align=\"right\">103</td><td align=\"right\">102</td></tr>"
      ],
      "text/plain": [
       "<IPython.core.display.HTML object>"
      ]
     },
     "execution_count": 6,
     "metadata": {},
     "output_type": "execute_result"
    }
   ],
   "source": [
    "HTML( inspire_summary(query='find aff Antonio Narino U.') )"
   ]
  },
  {
   "cell_type": "code",
   "execution_count": 7,
   "metadata": {
    "collapsed": false,
    "slideshow": {
     "slide_type": "slide"
    }
   },
   "outputs": [
    {
     "data": {
      "text/html": [
       "<h3>Find: aff Santander Industrial U.</h3><table id=\"citesummary\">\n",
       "                  <tr>\n",
       "                    <td>\n",
       "                      <strong class=\"headline\">Citation summary results</strong>\n",
       "                    </td><td align=\"right\">Citeable papers</td><td align=\"right\">Published only</td></tr><tr><td><strong>Total number of papers analyzed:</strong></td><td align=\"right\"><a href=\"http://inspirehep.net/search?p=aff%20Santander%20Industrial%20U.%20AND%20collection%3Aciteable\">73</a></td><td align=\"right\"><a href=\"http://inspirehep.net/search?p=aff%20Santander%20Industrial%20U.%20AND%20collection%3Apublished\">47</a></td></tr><tr><td><strong>Total number of citations:</strong></td><td align=\"right\">1,038</td><td align=\"right\">846</td></tr><tr><td><strong>Average citations per paper:</strong></td><td align=\"right\">14.2</td><td align=\"right\">18.0</td></tr><tr><td><strong>Breakdown of papers by citations:</strong></td></tr><tr><td>Renowned papers (500+)</td><td align=\"right\"><a href=\"/search?p=aff%20Santander%20Industrial%20U.%20AND%20collection%3Aciteable%20AND%20cited%3A500-%3E1000000\">0</a></td><td align=\"right\"><a href=\"/search?p=aff%20Santander%20Industrial%20U.%20AND%20collection%3Apublished%20AND%20cited%3A500-%3E1000000\">0</a></td></tr><tr><td>Famous papers (250-499)</td><td align=\"right\"><a href=\"/search?p=aff%20Santander%20Industrial%20U.%20AND%20collection%3Aciteable%20AND%20cited%3A250-%3E499\">0</a></td><td align=\"right\"><a href=\"/search?p=aff%20Santander%20Industrial%20U.%20AND%20collection%3Apublished%20AND%20cited%3A250-%3E499\">0</a></td></tr><tr><td>Very well-known papers (100-249)</td><td align=\"right\"><a href=\"/search?p=aff%20Santander%20Industrial%20U.%20AND%20collection%3Aciteable%20AND%20cited%3A100-%3E249\">2</a></td><td align=\"right\"><a href=\"/search?p=aff%20Santander%20Industrial%20U.%20AND%20collection%3Apublished%20AND%20cited%3A100-%3E249\">1</a></td></tr><tr><td>Well-known papers (50-99)</td><td align=\"right\"><a href=\"/search?p=aff%20Santander%20Industrial%20U.%20AND%20collection%3Aciteable%20AND%20cited%3A50-%3E99\">4</a></td><td align=\"right\"><a href=\"/search?p=aff%20Santander%20Industrial%20U.%20AND%20collection%3Apublished%20AND%20cited%3A50-%3E99\">4</a></td></tr><tr><td>Known papers (10-49)</td><td align=\"right\"><a href=\"/search?p=aff%20Santander%20Industrial%20U.%20AND%20collection%3Aciteable%20AND%20cited%3A10-%3E49\">16</a></td><td align=\"right\"><a href=\"/search?p=aff%20Santander%20Industrial%20U.%20AND%20collection%3Apublished%20AND%20cited%3A10-%3E49\">16</a></td></tr><tr><td>Less known papers (1-9)</td><td align=\"right\"><a href=\"/search?p=aff%20Santander%20Industrial%20U.%20AND%20collection%3Aciteable%20AND%20cited%3A1-%3E9\">31</a></td><td align=\"right\"><a href=\"/search?p=aff%20Santander%20Industrial%20U.%20AND%20collection%3Apublished%20AND%20cited%3A1-%3E9\">20</a></td></tr><tr><td>Unknown papers (0)</td><td align=\"right\"><a href=\"/search?p=aff%20Santander%20Industrial%20U.%20AND%20collection%3Aciteable%20AND%20cited%3A0\">20</a></td><td align=\"right\"><a href=\"/search?p=aff%20Santander%20Industrial%20U.%20AND%20collection%3Apublished%20AND%20cited%3A0\">6</a></td></tr><tr><td>h<sub style=\"font-size: 50%\">HEP</sub> index <small><small>[<a href=\"/help/citation-metrics#citesummary_h-index\">?</a>]</small></small></td><td align=\"right\">16</td><td align=\"right\">15</td></tr>"
      ],
      "text/plain": [
       "<IPython.core.display.HTML object>"
      ]
     },
     "execution_count": 7,
     "metadata": {},
     "output_type": "execute_result"
    }
   ],
   "source": [
    "HTML( inspire_summary(query='aff Santander Industrial U.'))"
   ]
  },
  {
   "cell_type": "code",
   "execution_count": 8,
   "metadata": {
    "collapsed": false,
    "slideshow": {
     "slide_type": "slide"
    }
   },
   "outputs": [
    {
     "data": {
      "text/html": [
       "<h3>Find: aff Valle U., Cali</h3><table id=\"citesummary\">\n",
       "                  <tr>\n",
       "                    <td>\n",
       "                      <strong class=\"headline\">Citation summary results</strong>\n",
       "                    </td><td align=\"right\">Citeable papers</td><td align=\"right\">Published only</td></tr><tr><td><strong>Total number of papers analyzed:</strong></td><td align=\"right\"><a href=\"http://inspirehep.net/search?p=aff%20Valle%20U.%2C%20Cali%20AND%20collection%3Aciteable\">82</a></td><td align=\"right\"><a href=\"http://inspirehep.net/search?p=aff%20Valle%20U.%2C%20Cali%20AND%20collection%3Apublished\">72</a></td></tr><tr><td><strong>Total number of citations:</strong></td><td align=\"right\">1,322</td><td align=\"right\">1,246</td></tr><tr><td><strong>Average citations per paper:</strong></td><td align=\"right\">16.1</td><td align=\"right\">17.3</td></tr><tr><td><strong>Breakdown of papers by citations:</strong></td></tr><tr><td>Renowned papers (500+)</td><td align=\"right\"><a href=\"/search?p=aff%20Valle%20U.%2C%20Cali%20AND%20collection%3Aciteable%20AND%20cited%3A500-%3E1000000\">0</a></td><td align=\"right\"><a href=\"/search?p=aff%20Valle%20U.%2C%20Cali%20AND%20collection%3Apublished%20AND%20cited%3A500-%3E1000000\">0</a></td></tr><tr><td>Famous papers (250-499)</td><td align=\"right\"><a href=\"/search?p=aff%20Valle%20U.%2C%20Cali%20AND%20collection%3Aciteable%20AND%20cited%3A250-%3E499\">0</a></td><td align=\"right\"><a href=\"/search?p=aff%20Valle%20U.%2C%20Cali%20AND%20collection%3Apublished%20AND%20cited%3A250-%3E499\">0</a></td></tr><tr><td>Very well-known papers (100-249)</td><td align=\"right\"><a href=\"/search?p=aff%20Valle%20U.%2C%20Cali%20AND%20collection%3Aciteable%20AND%20cited%3A100-%3E249\">3</a></td><td align=\"right\"><a href=\"/search?p=aff%20Valle%20U.%2C%20Cali%20AND%20collection%3Apublished%20AND%20cited%3A100-%3E249\">3</a></td></tr><tr><td>Well-known papers (50-99)</td><td align=\"right\"><a href=\"/search?p=aff%20Valle%20U.%2C%20Cali%20AND%20collection%3Aciteable%20AND%20cited%3A50-%3E99\">3</a></td><td align=\"right\"><a href=\"/search?p=aff%20Valle%20U.%2C%20Cali%20AND%20collection%3Apublished%20AND%20cited%3A50-%3E99\">3</a></td></tr><tr><td>Known papers (10-49)</td><td align=\"right\"><a href=\"/search?p=aff%20Valle%20U.%2C%20Cali%20AND%20collection%3Aciteable%20AND%20cited%3A10-%3E49\">30</a></td><td align=\"right\"><a href=\"/search?p=aff%20Valle%20U.%2C%20Cali%20AND%20collection%3Apublished%20AND%20cited%3A10-%3E49\">26</a></td></tr><tr><td>Less known papers (1-9)</td><td align=\"right\"><a href=\"/search?p=aff%20Valle%20U.%2C%20Cali%20AND%20collection%3Aciteable%20AND%20cited%3A1-%3E9\">32</a></td><td align=\"right\"><a href=\"/search?p=aff%20Valle%20U.%2C%20Cali%20AND%20collection%3Apublished%20AND%20cited%3A1-%3E9\">26</a></td></tr><tr><td>Unknown papers (0)</td><td align=\"right\"><a href=\"/search?p=aff%20Valle%20U.%2C%20Cali%20AND%20collection%3Aciteable%20AND%20cited%3A0\">14</a></td><td align=\"right\"><a href=\"/search?p=aff%20Valle%20U.%2C%20Cali%20AND%20collection%3Apublished%20AND%20cited%3A0\">14</a></td></tr><tr><td>h<sub style=\"font-size: 50%\">HEP</sub> index <small><small>[<a href=\"/help/citation-metrics#citesummary_h-index\">?</a>]</small></small></td><td align=\"right\">19</td><td align=\"right\">19</td></tr>"
      ],
      "text/plain": [
       "<IPython.core.display.HTML object>"
      ]
     },
     "execution_count": 8,
     "metadata": {},
     "output_type": "execute_result"
    }
   ],
   "source": [
    "HTML( inspire_summary(query='aff Valle U., Cali') )"
   ]
  },
  {
   "cell_type": "markdown",
   "metadata": {
    "slideshow": {
     "slide_type": "slide"
    }
   },
   "source": [
    "## Without CERN collaborations"
   ]
  },
  {
   "cell_type": "markdown",
   "metadata": {
    "slideshow": {
     "slide_type": "slide"
    }
   },
   "source": [
    "The index \n",
    "* `ac`: number of authors,<br/> \n",
    "is useful for narrowing a search to theoretical papers which typically have less than 5 authors or experimental papers written by the full collaboration. \n",
    "\n",
    "Alternatively:\n",
    "* `cn`: Experimental collaboraton, e.g `cn ATLAS`,<br/> \n",
    "is useful to search either by the collaboration name or the official experiment number.\n",
    "\n",
    "See: http://inspirehep.net/info/hep/search-tips"
   ]
  },
  {
   "cell_type": "code",
   "execution_count": 9,
   "metadata": {
    "collapsed": false,
    "slideshow": {
     "slide_type": "slide"
    }
   },
   "outputs": [
    {
     "data": {
      "text/html": [
       "<h3>Find: find aff Antioquia U. and ac 1->10</h3><table id=\"citesummary\">\n",
       "                  <tr>\n",
       "                    <td>\n",
       "                      <strong class=\"headline\">Citation summary results</strong>\n",
       "                    </td><td align=\"right\">Citeable papers</td><td align=\"right\">Published only</td></tr><tr><td><strong>Total number of papers analyzed:</strong></td><td align=\"right\"><a href=\"http://inspirehep.net/search?p=find%20aff%20Antioquia%20U.%20and%20ac%201-%3E10%20AND%20collection%3Aciteable\">175</a></td><td align=\"right\"><a href=\"http://inspirehep.net/search?p=find%20aff%20Antioquia%20U.%20and%20ac%201-%3E10%20AND%20collection%3Apublished\">125</a></td></tr><tr><td><strong>Total number of citations:</strong></td><td align=\"right\">3,299</td><td align=\"right\">3,192</td></tr><tr><td><strong>Average citations per paper:</strong></td><td align=\"right\">18.9</td><td align=\"right\">25.5</td></tr><tr><td><strong>Breakdown of papers by citations:</strong></td></tr><tr><td>Renowned papers (500+)</td><td align=\"right\"><a href=\"/search?p=find%20aff%20Antioquia%20U.%20and%20ac%201-%3E10%20AND%20collection%3Aciteable%20AND%20cited%3A500-%3E1000000\">0</a></td><td align=\"right\"><a href=\"/search?p=find%20aff%20Antioquia%20U.%20and%20ac%201-%3E10%20AND%20collection%3Apublished%20AND%20cited%3A500-%3E1000000\">0</a></td></tr><tr><td>Famous papers (250-499)</td><td align=\"right\"><a href=\"/search?p=find%20aff%20Antioquia%20U.%20and%20ac%201-%3E10%20AND%20collection%3Aciteable%20AND%20cited%3A250-%3E499\">2</a></td><td align=\"right\"><a href=\"/search?p=find%20aff%20Antioquia%20U.%20and%20ac%201-%3E10%20AND%20collection%3Apublished%20AND%20cited%3A250-%3E499\">2</a></td></tr><tr><td>Very well-known papers (100-249)</td><td align=\"right\"><a href=\"/search?p=find%20aff%20Antioquia%20U.%20and%20ac%201-%3E10%20AND%20collection%3Aciteable%20AND%20cited%3A100-%3E249\">1</a></td><td align=\"right\"><a href=\"/search?p=find%20aff%20Antioquia%20U.%20and%20ac%201-%3E10%20AND%20collection%3Apublished%20AND%20cited%3A100-%3E249\">1</a></td></tr><tr><td>Well-known papers (50-99)</td><td align=\"right\"><a href=\"/search?p=find%20aff%20Antioquia%20U.%20and%20ac%201-%3E10%20AND%20collection%3Aciteable%20AND%20cited%3A50-%3E99\">13</a></td><td align=\"right\"><a href=\"/search?p=find%20aff%20Antioquia%20U.%20and%20ac%201-%3E10%20AND%20collection%3Apublished%20AND%20cited%3A50-%3E99\">13</a></td></tr><tr><td>Known papers (10-49)</td><td align=\"right\"><a href=\"/search?p=find%20aff%20Antioquia%20U.%20and%20ac%201-%3E10%20AND%20collection%3Aciteable%20AND%20cited%3A10-%3E49\">49</a></td><td align=\"right\"><a href=\"/search?p=find%20aff%20Antioquia%20U.%20and%20ac%201-%3E10%20AND%20collection%3Apublished%20AND%20cited%3A10-%3E49\">47</a></td></tr><tr><td>Less known papers (1-9)</td><td align=\"right\"><a href=\"/search?p=find%20aff%20Antioquia%20U.%20and%20ac%201-%3E10%20AND%20collection%3Aciteable%20AND%20cited%3A1-%3E9\">79</a></td><td align=\"right\"><a href=\"/search?p=find%20aff%20Antioquia%20U.%20and%20ac%201-%3E10%20AND%20collection%3Apublished%20AND%20cited%3A1-%3E9\">53</a></td></tr><tr><td>Unknown papers (0)</td><td align=\"right\"><a href=\"/search?p=find%20aff%20Antioquia%20U.%20and%20ac%201-%3E10%20AND%20collection%3Aciteable%20AND%20cited%3A0\">31</a></td><td align=\"right\"><a href=\"/search?p=find%20aff%20Antioquia%20U.%20and%20ac%201-%3E10%20AND%20collection%3Apublished%20AND%20cited%3A0\">9</a></td></tr><tr><td>h<sub style=\"font-size: 50%\">HEP</sub> index <small><small>[<a href=\"/help/citation-metrics#citesummary_h-index\">?</a>]</small></small></td><td align=\"right\">27</td><td align=\"right\">27</td></tr>"
      ],
      "text/plain": [
       "<IPython.core.display.HTML object>"
      ]
     },
     "execution_count": 9,
     "metadata": {},
     "output_type": "execute_result"
    }
   ],
   "source": [
    "HTML( inspire_summary(query='find aff Antioquia U. and ac 1->10') )"
   ]
  },
  {
   "cell_type": "code",
   "execution_count": 10,
   "metadata": {
    "collapsed": false,
    "slideshow": {
     "slide_type": "slide"
    }
   },
   "outputs": [
    {
     "data": {
      "text/html": [
       "<h3>Find: find aff Andes U., Bogota and ac 1->10</h3><table id=\"citesummary\">\n",
       "                  <tr>\n",
       "                    <td>\n",
       "                      <strong class=\"headline\">Citation summary results</strong>\n",
       "                    </td><td align=\"right\">Citeable papers</td><td align=\"right\">Published only</td></tr><tr><td><strong>Total number of papers analyzed:</strong></td><td align=\"right\"><a href=\"http://inspirehep.net/search?p=find%20aff%20Andes%20U.%2C%20Bogota%20and%20ac%201-%3E10%20AND%20collection%3Aciteable\">134</a></td><td align=\"right\"><a href=\"http://inspirehep.net/search?p=find%20aff%20Andes%20U.%2C%20Bogota%20and%20ac%201-%3E10%20AND%20collection%3Apublished\">90</a></td></tr><tr><td><strong>Total number of citations:</strong></td><td align=\"right\">983</td><td align=\"right\">943</td></tr><tr><td><strong>Average citations per paper:</strong></td><td align=\"right\">7.3</td><td align=\"right\">10.5</td></tr><tr><td><strong>Breakdown of papers by citations:</strong></td></tr><tr><td>Renowned papers (500+)</td><td align=\"right\"><a href=\"/search?p=find%20aff%20Andes%20U.%2C%20Bogota%20and%20ac%201-%3E10%20AND%20collection%3Aciteable%20AND%20cited%3A500-%3E1000000\">0</a></td><td align=\"right\"><a href=\"/search?p=find%20aff%20Andes%20U.%2C%20Bogota%20and%20ac%201-%3E10%20AND%20collection%3Apublished%20AND%20cited%3A500-%3E1000000\">0</a></td></tr><tr><td>Famous papers (250-499)</td><td align=\"right\"><a href=\"/search?p=find%20aff%20Andes%20U.%2C%20Bogota%20and%20ac%201-%3E10%20AND%20collection%3Aciteable%20AND%20cited%3A250-%3E499\">1</a></td><td align=\"right\"><a href=\"/search?p=find%20aff%20Andes%20U.%2C%20Bogota%20and%20ac%201-%3E10%20AND%20collection%3Apublished%20AND%20cited%3A250-%3E499\">1</a></td></tr><tr><td>Very well-known papers (100-249)</td><td align=\"right\"><a href=\"/search?p=find%20aff%20Andes%20U.%2C%20Bogota%20and%20ac%201-%3E10%20AND%20collection%3Aciteable%20AND%20cited%3A100-%3E249\">0</a></td><td align=\"right\"><a href=\"/search?p=find%20aff%20Andes%20U.%2C%20Bogota%20and%20ac%201-%3E10%20AND%20collection%3Apublished%20AND%20cited%3A100-%3E249\">0</a></td></tr><tr><td>Well-known papers (50-99)</td><td align=\"right\"><a href=\"/search?p=find%20aff%20Andes%20U.%2C%20Bogota%20and%20ac%201-%3E10%20AND%20collection%3Aciteable%20AND%20cited%3A50-%3E99\">0</a></td><td align=\"right\"><a href=\"/search?p=find%20aff%20Andes%20U.%2C%20Bogota%20and%20ac%201-%3E10%20AND%20collection%3Apublished%20AND%20cited%3A50-%3E99\">0</a></td></tr><tr><td>Known papers (10-49)</td><td align=\"right\"><a href=\"/search?p=find%20aff%20Andes%20U.%2C%20Bogota%20and%20ac%201-%3E10%20AND%20collection%3Aciteable%20AND%20cited%3A10-%3E49\">27</a></td><td align=\"right\"><a href=\"/search?p=find%20aff%20Andes%20U.%2C%20Bogota%20and%20ac%201-%3E10%20AND%20collection%3Apublished%20AND%20cited%3A10-%3E49\">27</a></td></tr><tr><td>Less known papers (1-9)</td><td align=\"right\"><a href=\"/search?p=find%20aff%20Andes%20U.%2C%20Bogota%20and%20ac%201-%3E10%20AND%20collection%3Aciteable%20AND%20cited%3A1-%3E9\">61</a></td><td align=\"right\"><a href=\"/search?p=find%20aff%20Andes%20U.%2C%20Bogota%20and%20ac%201-%3E10%20AND%20collection%3Apublished%20AND%20cited%3A1-%3E9\">46</a></td></tr><tr><td>Unknown papers (0)</td><td align=\"right\"><a href=\"/search?p=find%20aff%20Andes%20U.%2C%20Bogota%20and%20ac%201-%3E10%20AND%20collection%3Aciteable%20AND%20cited%3A0\">45</a></td><td align=\"right\"><a href=\"/search?p=find%20aff%20Andes%20U.%2C%20Bogota%20and%20ac%201-%3E10%20AND%20collection%3Apublished%20AND%20cited%3A0\">16</a></td></tr><tr><td>h<sub style=\"font-size: 50%\">HEP</sub> index <small><small>[<a href=\"/help/citation-metrics#citesummary_h-index\">?</a>]</small></small></td><td align=\"right\">16</td><td align=\"right\">16</td></tr>"
      ],
      "text/plain": [
       "<IPython.core.display.HTML object>"
      ]
     },
     "execution_count": 10,
     "metadata": {},
     "output_type": "execute_result"
    }
   ],
   "source": [
    "HTML( inspire_summary(query='find aff Andes U., Bogota and ac 1->10' ) )"
   ]
  },
  {
   "cell_type": "code",
   "execution_count": 11,
   "metadata": {
    "collapsed": false,
    "slideshow": {
     "slide_type": "slide"
    }
   },
   "outputs": [
    {
     "data": {
      "text/html": [
       "<h3>Find: find aff Colombia, U. Natl. and ac 1->10</h3><table id=\"citesummary\">\n",
       "                  <tr>\n",
       "                    <td>\n",
       "                      <strong class=\"headline\">Citation summary results</strong>\n",
       "                    </td><td align=\"right\">Citeable papers</td><td align=\"right\">Published only</td></tr><tr><td><strong>Total number of papers analyzed:</strong></td><td align=\"right\"><a href=\"http://inspirehep.net/search?p=find%20aff%20Colombia%2C%20U.%20Natl.%20and%20ac%201-%3E10%20AND%20collection%3Aciteable\">262</a></td><td align=\"right\"><a href=\"http://inspirehep.net/search?p=find%20aff%20Colombia%2C%20U.%20Natl.%20and%20ac%201-%3E10%20AND%20collection%3Apublished\">158</a></td></tr><tr><td><strong>Total number of citations:</strong></td><td align=\"right\">2,218</td><td align=\"right\">1,738</td></tr><tr><td><strong>Average citations per paper:</strong></td><td align=\"right\">8.5</td><td align=\"right\">11.0</td></tr><tr><td><strong>Breakdown of papers by citations:</strong></td></tr><tr><td>Renowned papers (500+)</td><td align=\"right\"><a href=\"/search?p=find%20aff%20Colombia%2C%20U.%20Natl.%20and%20ac%201-%3E10%20AND%20collection%3Aciteable%20AND%20cited%3A500-%3E1000000\">0</a></td><td align=\"right\"><a href=\"/search?p=find%20aff%20Colombia%2C%20U.%20Natl.%20and%20ac%201-%3E10%20AND%20collection%3Apublished%20AND%20cited%3A500-%3E1000000\">0</a></td></tr><tr><td>Famous papers (250-499)</td><td align=\"right\"><a href=\"/search?p=find%20aff%20Colombia%2C%20U.%20Natl.%20and%20ac%201-%3E10%20AND%20collection%3Aciteable%20AND%20cited%3A250-%3E499\">0</a></td><td align=\"right\"><a href=\"/search?p=find%20aff%20Colombia%2C%20U.%20Natl.%20and%20ac%201-%3E10%20AND%20collection%3Apublished%20AND%20cited%3A250-%3E499\">0</a></td></tr><tr><td>Very well-known papers (100-249)</td><td align=\"right\"><a href=\"/search?p=find%20aff%20Colombia%2C%20U.%20Natl.%20and%20ac%201-%3E10%20AND%20collection%3Aciteable%20AND%20cited%3A100-%3E249\">1</a></td><td align=\"right\"><a href=\"/search?p=find%20aff%20Colombia%2C%20U.%20Natl.%20and%20ac%201-%3E10%20AND%20collection%3Apublished%20AND%20cited%3A100-%3E249\">0</a></td></tr><tr><td>Well-known papers (50-99)</td><td align=\"right\"><a href=\"/search?p=find%20aff%20Colombia%2C%20U.%20Natl.%20and%20ac%201-%3E10%20AND%20collection%3Aciteable%20AND%20cited%3A50-%3E99\">7</a></td><td align=\"right\"><a href=\"/search?p=find%20aff%20Colombia%2C%20U.%20Natl.%20and%20ac%201-%3E10%20AND%20collection%3Apublished%20AND%20cited%3A50-%3E99\">7</a></td></tr><tr><td>Known papers (10-49)</td><td align=\"right\"><a href=\"/search?p=find%20aff%20Colombia%2C%20U.%20Natl.%20and%20ac%201-%3E10%20AND%20collection%3Aciteable%20AND%20cited%3A10-%3E49\">59</a></td><td align=\"right\"><a href=\"/search?p=find%20aff%20Colombia%2C%20U.%20Natl.%20and%20ac%201-%3E10%20AND%20collection%3Apublished%20AND%20cited%3A10-%3E49\">48</a></td></tr><tr><td>Less known papers (1-9)</td><td align=\"right\"><a href=\"/search?p=find%20aff%20Colombia%2C%20U.%20Natl.%20and%20ac%201-%3E10%20AND%20collection%3Aciteable%20AND%20cited%3A1-%3E9\">110</a></td><td align=\"right\"><a href=\"/search?p=find%20aff%20Colombia%2C%20U.%20Natl.%20and%20ac%201-%3E10%20AND%20collection%3Apublished%20AND%20cited%3A1-%3E9\">74</a></td></tr><tr><td>Unknown papers (0)</td><td align=\"right\"><a href=\"/search?p=find%20aff%20Colombia%2C%20U.%20Natl.%20and%20ac%201-%3E10%20AND%20collection%3Aciteable%20AND%20cited%3A0\">85</a></td><td align=\"right\"><a href=\"/search?p=find%20aff%20Colombia%2C%20U.%20Natl.%20and%20ac%201-%3E10%20AND%20collection%3Apublished%20AND%20cited%3A0\">29</a></td></tr><tr><td>h<sub style=\"font-size: 50%\">HEP</sub> index <small><small>[<a href=\"/help/citation-metrics#citesummary_h-index\">?</a>]</small></small></td><td align=\"right\">25</td><td align=\"right\">23</td></tr>"
      ],
      "text/plain": [
       "<IPython.core.display.HTML object>"
      ]
     },
     "execution_count": 11,
     "metadata": {},
     "output_type": "execute_result"
    }
   ],
   "source": [
    "HTML( inspire_summary(query='find aff Colombia, U. Natl. and ac 1->10') )"
   ]
  },
  {
   "cell_type": "code",
   "execution_count": 12,
   "metadata": {
    "collapsed": false,
    "slideshow": {
     "slide_type": "slide"
    }
   },
   "outputs": [
    {
     "data": {
      "text/html": [
       "<h3>Find: find aff Antonio Narino U. and ac 1->10</h3><table id=\"citesummary\">\n",
       "                  <tr>\n",
       "                    <td>\n",
       "                      <strong class=\"headline\">Citation summary results</strong>\n",
       "                    </td><td align=\"right\">Citeable papers</td><td align=\"right\">Published only</td></tr><tr><td><strong>Total number of papers analyzed:</strong></td><td align=\"right\"><a href=\"http://inspirehep.net/search?p=find%20aff%20Antonio%20Narino%20U.%20and%20ac%201-%3E10%20AND%20collection%3Aciteable\">59</a></td><td align=\"right\"><a href=\"http://inspirehep.net/search?p=find%20aff%20Antonio%20Narino%20U.%20and%20ac%201-%3E10%20AND%20collection%3Apublished\">41</a></td></tr><tr><td><strong>Total number of citations:</strong></td><td align=\"right\">2,420</td><td align=\"right\">2,402</td></tr><tr><td><strong>Average citations per paper:</strong></td><td align=\"right\">41.0</td><td align=\"right\">58.6</td></tr><tr><td><strong>Breakdown of papers by citations:</strong></td></tr><tr><td>Renowned papers (500+)</td><td align=\"right\"><a href=\"/search?p=find%20aff%20Antonio%20Narino%20U.%20and%20ac%201-%3E10%20AND%20collection%3Aciteable%20AND%20cited%3A500-%3E1000000\">0</a></td><td align=\"right\"><a href=\"/search?p=find%20aff%20Antonio%20Narino%20U.%20and%20ac%201-%3E10%20AND%20collection%3Apublished%20AND%20cited%3A500-%3E1000000\">0</a></td></tr><tr><td>Famous papers (250-499)</td><td align=\"right\"><a href=\"/search?p=find%20aff%20Antonio%20Narino%20U.%20and%20ac%201-%3E10%20AND%20collection%3Aciteable%20AND%20cited%3A250-%3E499\">3</a></td><td align=\"right\"><a href=\"/search?p=find%20aff%20Antonio%20Narino%20U.%20and%20ac%201-%3E10%20AND%20collection%3Apublished%20AND%20cited%3A250-%3E499\">3</a></td></tr><tr><td>Very well-known papers (100-249)</td><td align=\"right\"><a href=\"/search?p=find%20aff%20Antonio%20Narino%20U.%20and%20ac%201-%3E10%20AND%20collection%3Aciteable%20AND%20cited%3A100-%3E249\">2</a></td><td align=\"right\"><a href=\"/search?p=find%20aff%20Antonio%20Narino%20U.%20and%20ac%201-%3E10%20AND%20collection%3Apublished%20AND%20cited%3A100-%3E249\">2</a></td></tr><tr><td>Well-known papers (50-99)</td><td align=\"right\"><a href=\"/search?p=find%20aff%20Antonio%20Narino%20U.%20and%20ac%201-%3E10%20AND%20collection%3Aciteable%20AND%20cited%3A50-%3E99\">8</a></td><td align=\"right\"><a href=\"/search?p=find%20aff%20Antonio%20Narino%20U.%20and%20ac%201-%3E10%20AND%20collection%3Apublished%20AND%20cited%3A50-%3E99\">8</a></td></tr><tr><td>Known papers (10-49)</td><td align=\"right\"><a href=\"/search?p=find%20aff%20Antonio%20Narino%20U.%20and%20ac%201-%3E10%20AND%20collection%3Aciteable%20AND%20cited%3A10-%3E49\">18</a></td><td align=\"right\"><a href=\"/search?p=find%20aff%20Antonio%20Narino%20U.%20and%20ac%201-%3E10%20AND%20collection%3Apublished%20AND%20cited%3A10-%3E49\">18</a></td></tr><tr><td>Less known papers (1-9)</td><td align=\"right\"><a href=\"/search?p=find%20aff%20Antonio%20Narino%20U.%20and%20ac%201-%3E10%20AND%20collection%3Aciteable%20AND%20cited%3A1-%3E9\">16</a></td><td align=\"right\"><a href=\"/search?p=find%20aff%20Antonio%20Narino%20U.%20and%20ac%201-%3E10%20AND%20collection%3Apublished%20AND%20cited%3A1-%3E9\">9</a></td></tr><tr><td>Unknown papers (0)</td><td align=\"right\"><a href=\"/search?p=find%20aff%20Antonio%20Narino%20U.%20and%20ac%201-%3E10%20AND%20collection%3Aciteable%20AND%20cited%3A0\">12</a></td><td align=\"right\"><a href=\"/search?p=find%20aff%20Antonio%20Narino%20U.%20and%20ac%201-%3E10%20AND%20collection%3Apublished%20AND%20cited%3A0\">1</a></td></tr><tr><td>h<sub style=\"font-size: 50%\">HEP</sub> index <small><small>[<a href=\"/help/citation-metrics#citesummary_h-index\">?</a>]</small></small></td><td align=\"right\">23</td><td align=\"right\">23</td></tr>"
      ],
      "text/plain": [
       "<IPython.core.display.HTML object>"
      ]
     },
     "execution_count": 12,
     "metadata": {},
     "output_type": "execute_result"
    }
   ],
   "source": [
    "HTML( inspire_summary(query='find aff Antonio Narino U. and ac 1->10') )"
   ]
  },
  {
   "cell_type": "code",
   "execution_count": 13,
   "metadata": {
    "collapsed": false,
    "slideshow": {
     "slide_type": "slide"
    }
   },
   "outputs": [
    {
     "data": {
      "text/html": [
       "<h3>Find: find aff Santander Industrial U. and ac 1->10</h3><table id=\"citesummary\">\n",
       "                  <tr>\n",
       "                    <td>\n",
       "                      <strong class=\"headline\">Citation summary results</strong>\n",
       "                    </td><td align=\"right\">Citeable papers</td><td align=\"right\">Published only</td></tr><tr><td><strong>Total number of papers analyzed:</strong></td><td align=\"right\"><a href=\"http://inspirehep.net/search?p=find%20aff%20Santander%20Industrial%20U.%20and%20ac%201-%3E10%20AND%20collection%3Aciteable\">70</a></td><td align=\"right\"><a href=\"http://inspirehep.net/search?p=find%20aff%20Santander%20Industrial%20U.%20and%20ac%201-%3E10%20AND%20collection%3Apublished\">46</a></td></tr><tr><td><strong>Total number of citations:</strong></td><td align=\"right\">871</td><td align=\"right\">842</td></tr><tr><td><strong>Average citations per paper:</strong></td><td align=\"right\">12.4</td><td align=\"right\">18.3</td></tr><tr><td><strong>Breakdown of papers by citations:</strong></td></tr><tr><td>Renowned papers (500+)</td><td align=\"right\"><a href=\"/search?p=find%20aff%20Santander%20Industrial%20U.%20and%20ac%201-%3E10%20AND%20collection%3Aciteable%20AND%20cited%3A500-%3E1000000\">0</a></td><td align=\"right\"><a href=\"/search?p=find%20aff%20Santander%20Industrial%20U.%20and%20ac%201-%3E10%20AND%20collection%3Apublished%20AND%20cited%3A500-%3E1000000\">0</a></td></tr><tr><td>Famous papers (250-499)</td><td align=\"right\"><a href=\"/search?p=find%20aff%20Santander%20Industrial%20U.%20and%20ac%201-%3E10%20AND%20collection%3Aciteable%20AND%20cited%3A250-%3E499\">0</a></td><td align=\"right\"><a href=\"/search?p=find%20aff%20Santander%20Industrial%20U.%20and%20ac%201-%3E10%20AND%20collection%3Apublished%20AND%20cited%3A250-%3E499\">0</a></td></tr><tr><td>Very well-known papers (100-249)</td><td align=\"right\"><a href=\"/search?p=find%20aff%20Santander%20Industrial%20U.%20and%20ac%201-%3E10%20AND%20collection%3Aciteable%20AND%20cited%3A100-%3E249\">1</a></td><td align=\"right\"><a href=\"/search?p=find%20aff%20Santander%20Industrial%20U.%20and%20ac%201-%3E10%20AND%20collection%3Apublished%20AND%20cited%3A100-%3E249\">1</a></td></tr><tr><td>Well-known papers (50-99)</td><td align=\"right\"><a href=\"/search?p=find%20aff%20Santander%20Industrial%20U.%20and%20ac%201-%3E10%20AND%20collection%3Aciteable%20AND%20cited%3A50-%3E99\">4</a></td><td align=\"right\"><a href=\"/search?p=find%20aff%20Santander%20Industrial%20U.%20and%20ac%201-%3E10%20AND%20collection%3Apublished%20AND%20cited%3A50-%3E99\">4</a></td></tr><tr><td>Known papers (10-49)</td><td align=\"right\"><a href=\"/search?p=find%20aff%20Santander%20Industrial%20U.%20and%20ac%201-%3E10%20AND%20collection%3Aciteable%20AND%20cited%3A10-%3E49\">16</a></td><td align=\"right\"><a href=\"/search?p=find%20aff%20Santander%20Industrial%20U.%20and%20ac%201-%3E10%20AND%20collection%3Apublished%20AND%20cited%3A10-%3E49\">16</a></td></tr><tr><td>Less known papers (1-9)</td><td align=\"right\"><a href=\"/search?p=find%20aff%20Santander%20Industrial%20U.%20and%20ac%201-%3E10%20AND%20collection%3Aciteable%20AND%20cited%3A1-%3E9\">30</a></td><td align=\"right\"><a href=\"/search?p=find%20aff%20Santander%20Industrial%20U.%20and%20ac%201-%3E10%20AND%20collection%3Apublished%20AND%20cited%3A1-%3E9\">19</a></td></tr><tr><td>Unknown papers (0)</td><td align=\"right\"><a href=\"/search?p=find%20aff%20Santander%20Industrial%20U.%20and%20ac%201-%3E10%20AND%20collection%3Aciteable%20AND%20cited%3A0\">19</a></td><td align=\"right\"><a href=\"/search?p=find%20aff%20Santander%20Industrial%20U.%20and%20ac%201-%3E10%20AND%20collection%3Apublished%20AND%20cited%3A0\">6</a></td></tr><tr><td>h<sub style=\"font-size: 50%\">HEP</sub> index <small><small>[<a href=\"/help/citation-metrics#citesummary_h-index\">?</a>]</small></small></td><td align=\"right\">15</td><td align=\"right\">15</td></tr>"
      ],
      "text/plain": [
       "<IPython.core.display.HTML object>"
      ]
     },
     "execution_count": 13,
     "metadata": {},
     "output_type": "execute_result"
    }
   ],
   "source": [
    "HTML( inspire_summary(query='find aff Santander Industrial U. and ac 1->10'))"
   ]
  },
  {
   "cell_type": "markdown",
   "metadata": {
    "slideshow": {
     "slide_type": "slide"
    }
   },
   "source": [
    "## TOTAL con colaboraciones:"
   ]
  },
  {
   "cell_type": "code",
   "execution_count": 14,
   "metadata": {
    "collapsed": false,
    "slideshow": {
     "slide_type": "slide"
    }
   },
   "outputs": [
    {
     "data": {
      "text/html": [
       "<h3>Find: find cc colombia</h3><table id=\"citesummary\">\n",
       "                  <tr>\n",
       "                    <td>\n",
       "                      <strong class=\"headline\">Citation summary results</strong>\n",
       "                    </td><td align=\"right\">Citeable papers</td><td align=\"right\">Published only</td></tr><tr><td><strong>Total number of papers analyzed:</strong></td><td align=\"right\"><a href=\"http://inspirehep.net/search?p=find%20cc%20colombia%20AND%20collection%3Aciteable\">2,321</a></td><td align=\"right\"><a href=\"http://inspirehep.net/search?p=find%20cc%20colombia%20AND%20collection%3Apublished\">1,918</a></td></tr><tr><td><strong>Total number of citations:</strong></td><td align=\"right\">117,015</td><td align=\"right\">115,233</td></tr><tr><td><strong>Average citations per paper:</strong></td><td align=\"right\">50.4</td><td align=\"right\">60.1</td></tr><tr><td><strong>Breakdown of papers by citations:</strong></td></tr><tr><td>Renowned papers (500+)</td><td align=\"right\"><a href=\"/search?p=find%20cc%20colombia%20AND%20collection%3Aciteable%20AND%20cited%3A500-%3E1000000\">13</a></td><td align=\"right\"><a href=\"/search?p=find%20cc%20colombia%20AND%20collection%3Apublished%20AND%20cited%3A500-%3E1000000\">13</a></td></tr><tr><td>Famous papers (250-499)</td><td align=\"right\"><a href=\"/search?p=find%20cc%20colombia%20AND%20collection%3Aciteable%20AND%20cited%3A250-%3E499\">42</a></td><td align=\"right\"><a href=\"/search?p=find%20cc%20colombia%20AND%20collection%3Apublished%20AND%20cited%3A250-%3E499\">41</a></td></tr><tr><td>Very well-known papers (100-249)</td><td align=\"right\"><a href=\"/search?p=find%20cc%20colombia%20AND%20collection%3Aciteable%20AND%20cited%3A100-%3E249\">192</a></td><td align=\"right\"><a href=\"/search?p=find%20cc%20colombia%20AND%20collection%3Apublished%20AND%20cited%3A100-%3E249\">189</a></td></tr><tr><td>Well-known papers (50-99)</td><td align=\"right\"><a href=\"/search?p=find%20cc%20colombia%20AND%20collection%3Aciteable%20AND%20cited%3A50-%3E99\">372</a></td><td align=\"right\"><a href=\"/search?p=find%20cc%20colombia%20AND%20collection%3Apublished%20AND%20cited%3A50-%3E99\">372</a></td></tr><tr><td>Known papers (10-49)</td><td align=\"right\"><a href=\"/search?p=find%20cc%20colombia%20AND%20collection%3Aciteable%20AND%20cited%3A10-%3E49\">808</a></td><td align=\"right\"><a href=\"/search?p=find%20cc%20colombia%20AND%20collection%3Apublished%20AND%20cited%3A10-%3E49\">780</a></td></tr><tr><td>Less known papers (1-9)</td><td align=\"right\"><a href=\"/search?p=find%20cc%20colombia%20AND%20collection%3Aciteable%20AND%20cited%3A1-%3E9\">608</a></td><td align=\"right\"><a href=\"/search?p=find%20cc%20colombia%20AND%20collection%3Apublished%20AND%20cited%3A1-%3E9\">430</a></td></tr><tr><td>Unknown papers (0)</td><td align=\"right\"><a href=\"/search?p=find%20cc%20colombia%20AND%20collection%3Aciteable%20AND%20cited%3A0\">286</a></td><td align=\"right\"><a href=\"/search?p=find%20cc%20colombia%20AND%20collection%3Apublished%20AND%20cited%3A0\">93</a></td></tr><tr><td>h<sub style=\"font-size: 50%\">HEP</sub> index <small><small>[<a href=\"/help/citation-metrics#citesummary_h-index\">?</a>]</small></small></td><td align=\"right\">143</td><td align=\"right\">142</td></tr>"
      ],
      "text/plain": [
       "<IPython.core.display.HTML object>"
      ]
     },
     "execution_count": 14,
     "metadata": {},
     "output_type": "execute_result"
    }
   ],
   "source": [
    "HTML( inspire_summary(query='find cc colombia'))"
   ]
  },
  {
   "cell_type": "markdown",
   "metadata": {
    "slideshow": {
     "slide_type": "slide"
    }
   },
   "source": [
    "## TOTAL sin colaboraciones:"
   ]
  },
  {
   "cell_type": "code",
   "execution_count": 15,
   "metadata": {
    "collapsed": false,
    "slideshow": {
     "slide_type": "slide"
    }
   },
   "outputs": [
    {
     "data": {
      "text/html": [
       "<h3>Find: find cc colombia and ac 1->10</h3><table id=\"citesummary\">\n",
       "                  <tr>\n",
       "                    <td>\n",
       "                      <strong class=\"headline\">Citation summary results</strong>\n",
       "                    </td><td align=\"right\">Citeable papers</td><td align=\"right\">Published only</td></tr><tr><td><strong>Total number of papers analyzed:</strong></td><td align=\"right\"><a href=\"http://inspirehep.net/search?p=find%20cc%20colombia%20and%20ac%201-%3E10%20AND%20collection%3Aciteable\">859</a></td><td align=\"right\"><a href=\"http://inspirehep.net/search?p=find%20cc%20colombia%20and%20ac%201-%3E10%20AND%20collection%3Apublished\">581</a></td></tr><tr><td><strong>Total number of citations:</strong></td><td align=\"right\">11,031</td><td align=\"right\">10,243</td></tr><tr><td><strong>Average citations per paper:</strong></td><td align=\"right\">12.8</td><td align=\"right\">17.6</td></tr><tr><td><strong>Breakdown of papers by citations:</strong></td></tr><tr><td>Renowned papers (500+)</td><td align=\"right\"><a href=\"/search?p=find%20cc%20colombia%20and%20ac%201-%3E10%20AND%20collection%3Aciteable%20AND%20cited%3A500-%3E1000000\">0</a></td><td align=\"right\"><a href=\"/search?p=find%20cc%20colombia%20and%20ac%201-%3E10%20AND%20collection%3Apublished%20AND%20cited%3A500-%3E1000000\">0</a></td></tr><tr><td>Famous papers (250-499)</td><td align=\"right\"><a href=\"/search?p=find%20cc%20colombia%20and%20ac%201-%3E10%20AND%20collection%3Aciteable%20AND%20cited%3A250-%3E499\">6</a></td><td align=\"right\"><a href=\"/search?p=find%20cc%20colombia%20and%20ac%201-%3E10%20AND%20collection%3Apublished%20AND%20cited%3A250-%3E499\">6</a></td></tr><tr><td>Very well-known papers (100-249)</td><td align=\"right\"><a href=\"/search?p=find%20cc%20colombia%20and%20ac%201-%3E10%20AND%20collection%3Aciteable%20AND%20cited%3A100-%3E249\">7</a></td><td align=\"right\"><a href=\"/search?p=find%20cc%20colombia%20and%20ac%201-%3E10%20AND%20collection%3Apublished%20AND%20cited%3A100-%3E249\">6</a></td></tr><tr><td>Well-known papers (50-99)</td><td align=\"right\"><a href=\"/search?p=find%20cc%20colombia%20and%20ac%201-%3E10%20AND%20collection%3Aciteable%20AND%20cited%3A50-%3E99\">32</a></td><td align=\"right\"><a href=\"/search?p=find%20cc%20colombia%20and%20ac%201-%3E10%20AND%20collection%3Apublished%20AND%20cited%3A50-%3E99\">32</a></td></tr><tr><td>Known papers (10-49)</td><td align=\"right\"><a href=\"/search?p=find%20cc%20colombia%20and%20ac%201-%3E10%20AND%20collection%3Aciteable%20AND%20cited%3A10-%3E49\">207</a></td><td align=\"right\"><a href=\"/search?p=find%20cc%20colombia%20and%20ac%201-%3E10%20AND%20collection%3Apublished%20AND%20cited%3A10-%3E49\">189</a></td></tr><tr><td>Less known papers (1-9)</td><td align=\"right\"><a href=\"/search?p=find%20cc%20colombia%20and%20ac%201-%3E10%20AND%20collection%3Aciteable%20AND%20cited%3A1-%3E9\">376</a></td><td align=\"right\"><a href=\"/search?p=find%20cc%20colombia%20and%20ac%201-%3E10%20AND%20collection%3Apublished%20AND%20cited%3A1-%3E9\">265</a></td></tr><tr><td>Unknown papers (0)</td><td align=\"right\"><a href=\"/search?p=find%20cc%20colombia%20and%20ac%201-%3E10%20AND%20collection%3Aciteable%20AND%20cited%3A0\">231</a></td><td align=\"right\"><a href=\"/search?p=find%20cc%20colombia%20and%20ac%201-%3E10%20AND%20collection%3Apublished%20AND%20cited%3A0\">83</a></td></tr><tr><td>h<sub style=\"font-size: 50%\">HEP</sub> index <small><small>[<a href=\"/help/citation-metrics#citesummary_h-index\">?</a>]</small></small></td><td align=\"right\">48</td><td align=\"right\">48</td></tr>"
      ],
      "text/plain": [
       "<IPython.core.display.HTML object>"
      ]
     },
     "execution_count": 15,
     "metadata": {},
     "output_type": "execute_result"
    }
   ],
   "source": [
    "HTML( inspire_summary(query='find cc colombia and ac 1->10'))"
   ]
  },
  {
   "cell_type": "markdown",
   "metadata": {
    "slideshow": {
     "slide_type": "fragment"
    }
   },
   "source": [
    "##  Ranking por citaciones (sin colaboraciones)\n",
    "http://inspirehep.net/search?p=find+cc+colombia+and+ac+1-%3E10&of=hb&rm=citation"
   ]
  }
 ],
 "metadata": {
  "kernelspec": {
   "display_name": "Python 3",
   "language": "python",
   "name": "python3"
  },
  "language_info": {
   "codemirror_mode": {
    "name": "ipython",
    "version": 3
   },
   "file_extension": ".py",
   "mimetype": "text/x-python",
   "name": "python",
   "nbconvert_exporter": "python",
   "pygments_lexer": "ipython3",
   "version": "3.4.2"
  }
 },
 "nbformat": 4,
 "nbformat_minor": 0
}
